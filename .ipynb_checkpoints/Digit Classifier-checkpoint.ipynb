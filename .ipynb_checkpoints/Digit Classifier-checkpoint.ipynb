{
 "cells": [
  {
   "cell_type": "markdown",
   "metadata": {},
   "source": [
    "# Digit Classifier\n",
    "Using MNIST datasets from http://yann.lecun.com/exdb/mnist/  \n",
    "The Classifier uses tanh activation for hidden layers and softmax activation"
   ]
  },
  {
   "cell_type": "code",
   "execution_count": 1,
   "metadata": {},
   "outputs": [],
   "source": [
    "# importing stuff\n",
    "import numpy as np\n",
    "import matplotlib.pyplot as plt # to plot the cost\n",
    "import struct # to read the datasets"
   ]
  },
  {
   "cell_type": "code",
   "execution_count": 2,
   "metadata": {},
   "outputs": [],
   "source": [
    "def tanh(x):\n",
    "    # tanh activation function\n",
    "    return (np.exp(2*x)-1)/(np.exp(2*x)+1)"
   ]
  },
  {
   "cell_type": "code",
   "execution_count": 3,
   "metadata": {},
   "outputs": [],
   "source": [
    "def rev_one_hot(a):\n",
    "    # function to reverse the 'one hot' created\n",
    "    b = np.zeros((1,a.shape[1]))\n",
    "    for i in range(a.shape[1]):\n",
    "        for j in range(a.shape[0]):\n",
    "            if(a[j,i] == 1):\n",
    "                b[0,i] = j\n",
    "                break\n",
    "    return b"
   ]
  },
  {
   "cell_type": "code",
   "execution_count": 4,
   "metadata": {},
   "outputs": [],
   "source": [
    "def initializer(layers_info,X):\n",
    "    # initializing parameters\n",
    "    parameters = {}\n",
    "    layers_info.insert(0,X.shape[0])\n",
    "    for i in range(1,len(layers_info)):\n",
    "        parameters['W'+str(i)] = np.random.randn(layers_info[i],layers_info[i-1]) * 0.01\n",
    "        parameters['b'+str(i)] = np.zeros((layers_info[i],1))\n",
    "    return parameters,layers_info"
   ]
  },
  {
   "cell_type": "code",
   "execution_count": 5,
   "metadata": {},
   "outputs": [],
   "source": [
    "def forward_prop(parameters,X,layers_info):\n",
    "    # implementing forward propagation\n",
    "    logits = {}\n",
    "    activations = {}\n",
    "    activations['A0'] = X\n",
    "    for i in range(1,len(layers_info)-1):\n",
    "        logits['Z'+str(i)] = np.dot(parameters['W'+str(i)],activations['A'+str(i-1)]) + parameters['b'+str(i)]\n",
    "        activations['A'+str(i)] = tanh(logits['Z'+str(i)])\n",
    "        \n",
    "    logits['Z'+str(len(layers_info)-1)] = np.dot(parameters['W'+str(len(layers_info)-1)],activations['A'+str(len(layers_info)-1-1)]) + parameters['b'+str(len(layers_info)-1)]\n",
    "    activations['A'+str(len(layers_info)-1)] = np.exp(logits['Z'+str(len(layers_info)-1)])/np.sum(np.exp(logits['Z'+str(len(layers_info)-1)]),axis=0,keepdims=True)\n",
    "    \n",
    "    return logits,activations"
   ]
  },
  {
   "cell_type": "code",
   "execution_count": 6,
   "metadata": {},
   "outputs": [],
   "source": [
    "def compute_cost(activations,Y,layers_info):\n",
    "    # calculating cost\n",
    "    AL = activations['A'+str(len(layers_info)-1)]\n",
    "    cost = (-1/Y.shape[1])*np.sum(0.1*Y*np.log(AL))\n",
    "    return cost"
   ]
  },
  {
   "cell_type": "code",
   "execution_count": 7,
   "metadata": {},
   "outputs": [],
   "source": [
    "def back_prop(X,Y,parameters,activations,layers_info,logits):\n",
    "    # implementing backward propagation\n",
    "    gradients = {}\n",
    "    m = Y.shape[1]\n",
    "    gradients['dZ'+str(len(layers_info)-1)] = activations['A'+str(len(layers_info)-1)] - Y\n",
    "    gradients['dW'+str(len(layers_info)-1)] = (1/m) * np.dot(gradients['dZ'+str(len(layers_info)-1)],activations['A'+str(len(layers_info)-2)].T)\n",
    "    gradients['db'+str(len(layers_info)-1)] = (1/m) * np.sum(gradients['dZ'+str(len(layers_info)-1)],axis=1,keepdims=True)\n",
    "    for i in range(2,len(layers_info)):\n",
    "        gradients['dZ'+str(len(layers_info) - i)] = np.dot(parameters['W'+str(len(layers_info)-i+1)].T,gradients['dZ'+str(len(layers_info)-i+1)])*(1-np.square(tanh(logits['Z'+str(len(layers_info)-i)])))\n",
    "        gradients['dW'+str(len(layers_info)-i)] = (1/m) * np.dot(gradients['dZ'+str(len(layers_info)-i)],activations['A'+str(len(layers_info)-i-1)].T)\n",
    "        gradients['db'+str(len(layers_info)-i)] = (1/m) * np.sum(gradients['dZ'+str(len(layers_info)-i)],axis=1,keepdims=True)\n",
    "    return gradients"
   ]
  },
  {
   "cell_type": "code",
   "execution_count": 30,
   "metadata": {},
   "outputs": [],
   "source": [
    "def start_training(X,Y,layers_info,max_iter,learning_rate=0.1,decay_rate=0):\n",
    "    # Main loop to start training\n",
    "    \n",
    "    parameters,layers_info = initializer(layers_info,X)\n",
    "    \n",
    "    global costs # this is global so plot can be made even outside the function\n",
    "    costs = []\n",
    "    \n",
    "    min_batch_size = 1000 #X.shape[1]\n",
    "    \n",
    "    for j in range(max_iter):\n",
    "        for k in range(int(X.shape[1]/min_batch_size)):\n",
    "            \n",
    "            logits,activations = forward_prop(parameters,X[:,:(k+1)*min_batch_size],layers_info)\n",
    "            \n",
    "            cost = compute_cost(activations,Y[:,:(k+1)*min_batch_size],layers_info)\n",
    "            costs.append(cost)\n",
    "            gradients = back_prop(X[:,:(k+1)*min_batch_size],Y[:,:(k+1)*min_batch_size],parameters,activations,layers_info,logits)\n",
    "            learning_rate /= 1+decay_rate*j\n",
    "            for i in range(1,len(layers_info)):\n",
    "                parameters['W'+str(i)] -= learning_rate*gradients['dW'+str(i)]\n",
    "                parameters['b'+str(i)] -= learning_rate*gradients['db'+str(i)]\n",
    "            # this is just to make the iterations look pretty\n",
    "            if(k%4==0):\n",
    "                print('at '+str(k)+' working /',end='\\r')\n",
    "            elif(k%4==1):\n",
    "                print('at '+str(k)+' working -',end='\\r')\n",
    "            elif(k%4==2):\n",
    "                print('at '+str(k)+' working \\\\',end='\\r')\n",
    "            elif(k%4==3):\n",
    "                print('at '+str(k)+' working |',end='\\r')\n",
    "            \n",
    "        if(j != 0):\n",
    "            print(cost)\n",
    "            \n",
    "    plt.plot(costs)\n",
    "    #plt.ylim(0,5)\n",
    "    plt.ylabel('Cost')\n",
    "    plt.xlabel('Num Iterations')\n",
    "    return parameters"
   ]
  },
  {
   "cell_type": "code",
   "execution_count": 9,
   "metadata": {},
   "outputs": [],
   "source": [
    "# opening and manipulating the Dataset\n",
    "\n",
    "with open('datasets/Hdigits_train.idx3-ubyte','rb') as f:\n",
    "    magic, size = struct.unpack(\">II\", f.read(8))\n",
    "    nrows, ncols = struct.unpack(\">II\", f.read(8))\n",
    "    data = np.fromfile(f, dtype=np.dtype(np.uint8).newbyteorder('>'))\n",
    "    data = data.reshape((size, nrows, ncols))\n",
    "X = data\n",
    "with open('datasets/Hdigits_train_labels.idx1-ubyte','rb') as f:\n",
    "    magic, size = struct.unpack(\">II\", f.read(8))\n",
    "    data = np.fromfile(f, dtype=np.dtype(np.uint8).newbyteorder('>'))\n",
    "Y_raw = data\n",
    "X = X/255\n",
    "X = X.reshape(X.shape[0],-1)\n",
    "X = X.T\n",
    "Y_raw = Y_raw.reshape(1,60000)\n",
    "Y_hot = np.zeros((10,60000))\n",
    "for i in range(60000):             #one hotting the labels\n",
    "    Y_hot[Y_raw[0,i],i] = 1\n",
    "Y = Y_hot"
   ]
  },
  {
   "cell_type": "code",
   "execution_count": 31,
   "metadata": {},
   "outputs": [
    {
     "name": "stdout",
     "output_type": "stream",
     "text": [
      "0.05767545201739774\n",
      "0.04634392202643737\n",
      "0.041153013605234004\n",
      "0.03818745150397119\n",
      "0.036245738720962734\n",
      "0.03485755583574382\n",
      "0.03380492684361687\n",
      "0.03297238640510872\n",
      "0.03229228763493486\n"
     ]
    },
    {
     "data": {
      "image/png": "[encoded data removed]",
      "text/plain": [
       "<Figure size 432x288 with 1 Axes>"
      ]
     },
     "metadata": {
      "needs_background": "light"
     },
     "output_type": "display_data"
    }
   ],
   "source": [
    "layers_info = [600,10] # define layers here\n",
    "trained_parameters = start_training(X[:,:],Y[:,:],layers_info,10) # define max_iterations here"
   ]
  },
  {
   "cell_type": "code",
   "execution_count": 32,
   "metadata": {},
   "outputs": [
    {
     "name": "stdout",
     "output_type": "stream",
     "text": [
      "Train set Accuracy: 90.78%\n"
     ]
    }
   ],
   "source": [
    "_ , activations = forward_prop(trained_parameters,X,layers_info)\n",
    "A = activations['A'+str(len(layers_info)-1)]\n",
    "for i in range(60000):\n",
    "    A[:,i] = (A[:,i] == np.max(A[:,i])).astype(float)\n",
    "rev_hotted_A = rev_one_hot(A)\n",
    "predictions = (rev_hotted_A == Y_raw).astype(int)\n",
    "accuracy = np.sum(predictions)/predictions.shape[1]\n",
    "print('Train set Accuracy: '+str(accuracy*100)+'%')"
   ]
  },
  {
   "cell_type": "code",
   "execution_count": 33,
   "metadata": {},
   "outputs": [],
   "source": [
    "# loading and manipulating test dataset\n",
    "\n",
    "with open('datasets/Hdigits_test.idx3-ubyte','rb') as f:\n",
    "    magic, size = struct.unpack(\">II\", f.read(8))\n",
    "    nrows, ncols = struct.unpack(\">II\", f.read(8))\n",
    "    data = np.fromfile(f, dtype=np.dtype(np.uint8).newbyteorder('>'))\n",
    "    data = data.reshape((size, nrows, ncols))\n",
    "X_test = data\n",
    "with open('datasets/Hdigit_test_labels.idx1-ubyte','rb') as f:\n",
    "    magic, size = struct.unpack(\">II\", f.read(8))\n",
    "    data = np.fromfile(f, dtype=np.dtype(np.uint8).newbyteorder('>'))\n",
    "Y_test = data\n",
    "X_test = X_test/255\n",
    "X_test = X_test.reshape(X_test.shape[0],-1)\n",
    "X_test = X_test.T\n",
    "Y_test = Y_test.reshape(1,Y_test.shape[0])"
   ]
  },
  {
   "cell_type": "code",
   "execution_count": 34,
   "metadata": {},
   "outputs": [
    {
     "name": "stdout",
     "output_type": "stream",
     "text": [
      "Test set Accuracy: 91.21000000000001%\n"
     ]
    }
   ],
   "source": [
    "_ , activations = forward_prop(trained_parameters,X_test,layers_info)\n",
    "A = activations['A'+str(len(layers_info)-1)]\n",
    "for i in range(A.shape[1]):\n",
    "    A[:,i] = (A[:,i] == np.max(A[:,i])).astype(float)\n",
    "rev_hotted_A = rev_one_hot(A)\n",
    "predictions = (rev_hotted_A == Y_test).astype(int)\n",
    "accuracy = np.sum(predictions)/predictions.shape[1]\n",
    "print('Test set Accuracy: '+str(accuracy*100)+'%')"
   ]
  },
  {
   "cell_type": "markdown",
   "metadata": {},
   "source": [
    "## Results"
   ]
  },
  {
   "cell_type": "markdown",
   "metadata": {},
   "source": [
    "for  \n",
    "&nbsp;&nbsp;&nbsp;&nbsp;learning_rate = 0.5  \n",
    "&nbsp;&nbsp;&nbsp;&nbsp;epochs = 10  \n",
    "&nbsp;&nbsp;&nbsp;&nbsp;layers_info = [600,10]\n",
    "minibatch size = 1000\n",
    "   \n",
    "train accuracy = 90.78%  \n",
    "test accuracy = 91.21% "
   ]
  }
 ],
 "metadata": {
  "kernelspec": {
   "display_name": "Python 3",
   "language": "python",
   "name": "python3"
  },
  "language_info": {
   "codemirror_mode": {
    "name": "ipython",
    "version": 3
   },
   "file_extension": ".py",
   "mimetype": "text/x-python",
   "name": "python",
   "nbconvert_exporter": "python",
   "pygments_lexer": "ipython3",
   "version": "3.8.2"
  }
 },
 "nbformat": 4,
 "nbformat_minor": 4
}
