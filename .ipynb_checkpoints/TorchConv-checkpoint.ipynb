{
 "cells": [
  {
   "cell_type": "markdown",
   "metadata": {},
   "source": [
    "# ConvNet in Pytorch\n",
    "dataset used:  \n",
    "digits MNIST - http://yann.lecun.com/exdb/mnist/"
   ]
  },
  {
   "cell_type": "code",
   "execution_count": 49,
   "metadata": {},
   "outputs": [],
   "source": [
    "import torch\n",
    "import numpy as np\n",
    "import torch.nn as nn\n",
    "import torch.nn.functional as functions\n",
    "import torch.optim as optim\n",
    "import matplotlib.pyplot as plt\n",
    "import struct"
   ]
  },
  {
   "cell_type": "code",
   "execution_count": 2,
   "metadata": {
    "scrolled": true
   },
   "outputs": [
    {
     "name": "stdout",
     "output_type": "stream",
     "text": [
      "(60000, 1, 28, 28)\n",
      "torch.Size([60000])\n"
     ]
    }
   ],
   "source": [
    "with open('datasets/Hdigits_train.idx3-ubyte','rb') as f:\n",
    "    magic, size = struct.unpack(\">II\", f.read(8))\n",
    "    nrows, ncols = struct.unpack(\">II\", f.read(8))\n",
    "    data = np.fromfile(f, dtype=np.dtype(np.uint8).newbyteorder('>'))\n",
    "    data = data.reshape((size, nrows, ncols))\n",
    "X = data\n",
    "with open('datasets/Hdigits_train_labels.idx1-ubyte','rb') as f:\n",
    "    magic, size = struct.unpack(\">II\", f.read(8))\n",
    "    data = np.fromfile(f, dtype=np.dtype(np.uint8).newbyteorder('>'))\n",
    "Y_raw = data\n",
    "X = X/255\n",
    "X = X.reshape(X.shape[0],1,28,28)\n",
    "print(X.shape)\n",
    "X = torch.from_numpy(X).float()\n",
    "\n",
    "Y_raw = Y_raw.reshape(1,60000)\n",
    "Y_hot = np.zeros((10,60000))\n",
    "for i in range(60000):\n",
    "    Y_hot[Y_raw[0,i],i] = 1\n",
    "Y = torch.from_numpy(Y_raw.T).view(60000).float()\n",
    "print(Y.size())"
   ]
  },
  {
   "cell_type": "code",
   "execution_count": 3,
   "metadata": {},
   "outputs": [],
   "source": [
    "class ConvNet(nn.Module):\n",
    "    \n",
    "    def __init__(self):\n",
    "        super(ConvNet,self).__init__()\n",
    "        self.conv1 = nn.Conv2d(1,6,(3,3))\n",
    "        self.fc1 = nn.Linear(13*13*6,150)\n",
    "        self.fc2 = nn.Linear(150,84)\n",
    "        self.fc3 = nn.Linear(84,10)\n",
    "        \n",
    "    def forward(self,x):\n",
    "        x = self.conv1(x)\n",
    "        x = functions.relu(x)\n",
    "        x = functions.max_pool2d(x,(2,2))\n",
    "        x = x.view(x.size(0),-1)\n",
    "        x = functions.relu(self.fc1(x))\n",
    "        x = functions.relu(self.fc2(x))\n",
    "        x = self.fc3(x)\n",
    "        #print(x.size())\n",
    "        #x = nn.Softmax(dim=1)(x)\n",
    "        #print(x.size())\n",
    "        return x"
   ]
  },
  {
   "cell_type": "code",
   "execution_count": 77,
   "metadata": {},
   "outputs": [],
   "source": [
    "net = ConvNet().float()\n",
    "optimizer = optim.Adam(net.parameters(),lr=0.01)"
   ]
  },
  {
   "cell_type": "code",
   "execution_count": 82,
   "metadata": {},
   "outputs": [
    {
     "name": "stdout",
     "output_type": "stream",
     "text": [
      "tensor(0.4450, grad_fn=<NllLossBackward>) at epoch 0\n",
      "tensor(0.3262, grad_fn=<NllLossBackward>) at epoch 1\n",
      "tensor(0.2682, grad_fn=<NllLossBackward>) at epoch 2\n",
      "tensor(0.2300, grad_fn=<NllLossBackward>) at epoch 3\n",
      "tensor(0.1942, grad_fn=<NllLossBackward>) at epoch 4\n",
      "tensor(0.1671, grad_fn=<NllLossBackward>) at epoch 5\n",
      "tensor(0.1457, grad_fn=<NllLossBackward>) at epoch 6\n",
      "tensor(0.1282, grad_fn=<NllLossBackward>) at epoch 7\n",
      "tensor(0.1160, grad_fn=<NllLossBackward>) at epoch 8\n",
      "tensor(0.1045, grad_fn=<NllLossBackward>) at epoch 9\n"
     ]
    },
    {
     "data": {
      "text/plain": [
       "Text(0.5, 0, 'Num Iterations')"
      ]
     },
     "execution_count": 82,
     "metadata": {},
     "output_type": "execute_result"
    },
    {
     "data": {
      "image/png": "[encoded data removed]",
      "text/plain": [
       "<Figure size 432x288 with 1 Axes>"
      ]
     },
     "metadata": {
      "needs_background": "light"
     },
     "output_type": "display_data"
    }
   ],
   "source": [
    "total_size = 60000\n",
    "batchsize = 10000\n",
    "epochs = 10\n",
    "cost_fn = nn.CrossEntropyLoss()\n",
    "costs = []\n",
    "for i in range(epochs):\n",
    "    for j in range(int(total_size/batchsize)):\n",
    "        optimizer.zero_grad()\n",
    "        output = net(X[:(j+1)*batchsize])\n",
    "        cost = cost_fn(output,Y[:(j+1)*batchsize].long())\n",
    "        costs.append(cost.item())\n",
    "        cost.backward()\n",
    "        optimizer.step()\n",
    "    if(i%(epochs*0.1) == 0):\n",
    "        print(str(cost)+' at epoch '+str(i))\n",
    "        #print(torch.argmax(output[21]),torch.argmax(output[22]),torch.argmax(output[23]),torch.argmax(output[24]))\n",
    "plt.plot(costs)\n",
    "plt.ylabel('Cost')\n",
    "plt.xlabel('Num Iterations')"
   ]
  },
  {
   "cell_type": "code",
   "execution_count": 83,
   "metadata": {},
   "outputs": [],
   "source": [
    "testsize = 60000\n",
    "with torch.no_grad():\n",
    "    train_results = net(X[:testsize])\n",
    "    m = nn.Softmax(dim=1)\n",
    "    train_results = m(train_results).numpy()\n",
    "    train_labels = Y[:testsize].numpy()\n",
    "    #print(train_results)"
   ]
  },
  {
   "cell_type": "code",
   "execution_count": 84,
   "metadata": {},
   "outputs": [
    {
     "name": "stdout",
     "output_type": "stream",
     "text": [
      "(60000, 10)\n",
      "(60000,)\n",
      "(60000,)\n",
      "[5. 0. 4. 1. 9. 2. 1. 3. 1. 4. 3. 5. 3. 6. 1. 7. 2. 8. 6. 9. 4. 0. 9. 1.\n",
      " 1.]\n",
      "[5. 0. 4. 1. 9. 2. 1. 3. 1. 4. 3. 5. 3. 6. 1. 7. 2. 8. 6. 9. 4. 0. 9. 1.\n",
      " 1.]\n"
     ]
    }
   ],
   "source": [
    "print(train_results.shape)\n",
    "train_labels.reshape(testsize)\n",
    "print(train_labels.shape)\n",
    "results = np.zeros(testsize)\n",
    "print(results.shape)\n",
    "for i in range(train_results.shape[0]):\n",
    "    results[i] = np.argmax(train_results[i])\n",
    "print(results[:25])\n",
    "print(train_labels[:25])\n",
    "#print(np.argmax(train_results[0]))"
   ]
  },
  {
   "cell_type": "code",
   "execution_count": 85,
   "metadata": {},
   "outputs": [
    {
     "name": "stdout",
     "output_type": "stream",
     "text": [
      "[96.92]\n"
     ]
    }
   ],
   "source": [
    "predictions = (train_labels == results).astype(float)\n",
    "accuracy = np.sum(predictions)/predictions.shape\n",
    "print(accuracy*100)"
   ]
  },
  {
   "cell_type": "code",
   "execution_count": 86,
   "metadata": {},
   "outputs": [
    {
     "name": "stdout",
     "output_type": "stream",
     "text": [
      "(10000, 1, 28, 28)\n",
      "torch.Size([10000])\n"
     ]
    }
   ],
   "source": [
    "with open('datasets/Hdigits_test.idx3-ubyte','rb') as f:\n",
    "    magic, size = struct.unpack(\">II\", f.read(8))\n",
    "    nrows, ncols = struct.unpack(\">II\", f.read(8))\n",
    "    data = np.fromfile(f, dtype=np.dtype(np.uint8).newbyteorder('>'))\n",
    "    data = data.reshape((size, nrows, ncols))\n",
    "X_test = data\n",
    "with open('datasets/Hdigit_test_labels.idx1-ubyte','rb') as f:\n",
    "    magic, size = struct.unpack(\">II\", f.read(8))\n",
    "    data = np.fromfile(f, dtype=np.dtype(np.uint8).newbyteorder('>'))\n",
    "Y_test = data\n",
    "X_test = X_test/255\n",
    "X_test = X_test.reshape(X_test.shape[0],1,28,28)\n",
    "print(X_test.shape)\n",
    "X_test = torch.from_numpy(X_test).float()\n",
    "Y_test = torch.from_numpy(Y_test).float()\n",
    "print(Y_test.size())"
   ]
  },
  {
   "cell_type": "code",
   "execution_count": 87,
   "metadata": {},
   "outputs": [],
   "source": [
    "with torch.no_grad():\n",
    "    test_train_results = net(X_test)\n",
    "    soft = nn.Softmax(dim=1)\n",
    "    test_train_results = soft(test_train_results)\n",
    "    test_train_results = test_train_results.numpy()\n",
    "    test_train_labels = Y_test.numpy()\n",
    "    #print(train_results)"
   ]
  },
  {
   "cell_type": "code",
   "execution_count": 88,
   "metadata": {},
   "outputs": [
    {
     "name": "stdout",
     "output_type": "stream",
     "text": [
      "(10000, 10)\n",
      "(60000,)\n",
      "(10000,)\n",
      "[7. 2. 1. 0. 4. 1. 4. 9. 6. 9. 0. 6. 9. 0. 1. 5. 9. 7. 3. 4. 9. 6. 6. 5.\n",
      " 4.]\n",
      "[7. 2. 1. 0. 4. 1. 4. 9. 5. 9. 0. 6. 9. 0. 1. 5. 9. 7. 3. 4. 9. 6. 6. 5.\n",
      " 4.]\n"
     ]
    }
   ],
   "source": [
    "print(test_train_results.shape)\n",
    "test_train_labels.reshape(Y_test.size(0))\n",
    "print(train_labels.shape)\n",
    "test_results = np.zeros(Y_test.size(0))\n",
    "print(test_results.shape)\n",
    "for i in range(test_train_results.shape[0]):\n",
    "    test_results[i] = np.argmax(test_train_results[i])\n",
    "print(test_results[:25])\n",
    "print(test_train_labels[:25])\n",
    "#print(np.argmax(test_train_results[0]))"
   ]
  },
  {
   "cell_type": "code",
   "execution_count": 89,
   "metadata": {},
   "outputs": [
    {
     "name": "stdout",
     "output_type": "stream",
     "text": [
      "[96.79]\n"
     ]
    }
   ],
   "source": [
    "predictions = (test_train_labels == test_results).astype(float)\n",
    "accuracy = np.sum(predictions)/predictions.shape\n",
    "print(accuracy*100)"
   ]
  },
  {
   "cell_type": "markdown",
   "metadata": {},
   "source": [
    "# Results\n",
    "**ConvNet in Pytorch**  \n",
    "**Conv -> MaxPool -> 3xFC**  \n",
    "\n",
    "batchsize = 10000  \n",
    "learning rate (Adam) = 0.01  \n",
    "Epochs = 10  \n",
    "train set accuracy = 96.92%  \n",
    "test set accuracy = 96.79%  "
   ]
  },
  {
   "cell_type": "code",
   "execution_count": null,
   "metadata": {},
   "outputs": [],
   "source": []
  }
 ],
 "metadata": {
  "kernelspec": {
   "display_name": "Python 3",
   "language": "python",
   "name": "python3"
  },
  "language_info": {
   "codemirror_mode": {
    "name": "ipython",
    "version": 3
   },
   "file_extension": ".py",
   "mimetype": "text/x-python",
   "name": "python",
   "nbconvert_exporter": "python",
   "pygments_lexer": "ipython3",
   "version": "3.8.2"
  }
 },
 "nbformat": 4,
 "nbformat_minor": 4
}
