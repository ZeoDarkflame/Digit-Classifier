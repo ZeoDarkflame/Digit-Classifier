{
 "cells": [
  {
   "cell_type": "markdown",
   "metadata": {},
   "source": [
    "## Outline for single Layer, single Neuron Classifier\n",
    "1. Initalize the learnable parameters\n",
    "2. Implement Forward Propagation - Linear(Sigmoid)\n",
    "3. Calculate the cost\n",
    "4. Implement Back Propagation\n",
    "5. Start main loop"
   ]
  },
  {
   "cell_type": "code",
   "execution_count": 1,
   "metadata": {},
   "outputs": [],
   "source": [
    "# importing stuff\n",
    "import numpy as np\n",
    "import matplotlib.pyplot as plt"
   ]
  },
  {
   "cell_type": "code",
   "execution_count": 2,
   "metadata": {},
   "outputs": [],
   "source": [
    "def initializer(num_inp_features):\n",
    "    # initializing learnable parameters\n",
    "\n",
    "    W = np.random.randn(1,num_inp_features) * 0.01 #can be zero since there is only one neuron\n",
    "    b = 0\n",
    "    \n",
    "    return W,b"
   ]
  },
  {
   "cell_type": "code",
   "execution_count": 3,
   "metadata": {},
   "outputs": [],
   "source": [
    "def forward_prop(X,W,b):\n",
    "    # implementing forward propagation\n",
    "    \n",
    "    Z = np.dot(W,X) + b\n",
    "    A = 1/(1+np.exp(-1*Z))\n",
    "    \n",
    "    return Z,A"
   ]
  },
  {
   "cell_type": "code",
   "execution_count": 4,
   "metadata": {},
   "outputs": [],
   "source": [
    "def compute_cost(A,Y):\n",
    "    # calculating cost\n",
    "    \n",
    "    cost = (-1/Y.shape[1])*np.sum(Y*np.log(A)+(1-Y)*np.log(1-A),axis=1,keepdims=True)\n",
    "    \n",
    "    return cost"
   ]
  },
  {
   "cell_type": "code",
   "execution_count": 5,
   "metadata": {},
   "outputs": [],
   "source": [
    "def back_prop(X,A,Y):\n",
    "    # implementing back propagation\n",
    "    \n",
    "    dW = (1/Y.shape[1])*np.dot(A-Y,X.T)\n",
    "    db = (1/Y.shape[1])*np.sum(A-Y,axis=1,keepdims=True)\n",
    "    \n",
    "    return dW,db"
   ]
  },
  {
   "cell_type": "code",
   "execution_count": 6,
   "metadata": {},
   "outputs": [],
   "source": [
    "def start_training(X,Y,max_iter,learning_rate=0.01):\n",
    "    # starts training loop\n",
    "    \n",
    "    global costs\n",
    "    costs = []\n",
    "    \n",
    "    W,b = initializer(X.shape[0])\n",
    "    for i in range(max_iter):\n",
    "        Z,A = forward_prop(X,W,b)\n",
    "        cost = compute_cost(A,Y)\n",
    "        costs.append(cost.reshape(1))\n",
    "        dW,db = back_prop(X,A,Y)\n",
    "        \n",
    "        W = W - learning_rate*dW\n",
    "        b = b - learning_rate*db\n",
    "        \n",
    "        if(i%100 == 0):\n",
    "            print('Cost after '+str(i)+' iterations = '+str(cost))\n",
    "    \n",
    "    plt.plot(costs)\n",
    "    plt.ylim(0,1)\n",
    "    plt.ylabel('Cost')\n",
    "    plt.xlabel('Num Iterations')\n",
    "    return W,b"
   ]
  },
  {
   "cell_type": "code",
   "execution_count": 44,
   "metadata": {},
   "outputs": [
    {
     "name": "stdout",
     "output_type": "stream",
     "text": [
      "Cost after 0 iterations = [[0.6946953]]\n",
      "Cost after 100 iterations = [[0.47185797]]\n",
      "Cost after 200 iterations = [[0.38801126]]\n",
      "Cost after 300 iterations = [[0.35093326]]\n",
      "Cost after 400 iterations = [[0.33236207]]\n",
      "Cost after 500 iterations = [[0.32221766]]\n",
      "Cost after 600 iterations = [[0.3163257]]\n",
      "Cost after 700 iterations = [[0.31274603]]\n",
      "Cost after 800 iterations = [[0.31049504]]\n",
      "Cost after 900 iterations = [[0.30904004]]\n",
      "Cost after 1000 iterations = [[0.3080775]]\n"
     ]
    },
    {
     "data": {
      "image/png": "[encoded data removed]",
      "text/plain": [
       "<Figure size 432x288 with 1 Axes>"
      ]
     },
     "metadata": {
      "needs_background": "light"
     },
     "output_type": "display_data"
    }
   ],
   "source": [
    "# making testing dataset\n",
    "X = np.random.rand(5,64)\n",
    "Y = np.random.rand(1,64) > 0.9\n",
    "Y = Y.astype(int)\n",
    "trained_W,trained_b = start_training(X,Y,1001)"
   ]
  },
  {
   "cell_type": "code",
   "execution_count": 45,
   "metadata": {},
   "outputs": [
    {
     "name": "stdout",
     "output_type": "stream",
     "text": [
      "0.90625\n"
     ]
    }
   ],
   "source": [
    "_ , A = forward_prop(X,trained_W,trained_b)\n",
    "A = (A > 0.5).astype(int)\n",
    "predictions = (A == Y).astype(int)\n",
    "accuracy = np.sum(predictions)/predictions.shape[1]\n",
    "print(accuracy)"
   ]
  },
  {
   "cell_type": "markdown",
   "metadata": {},
   "source": [
    "## Outline for Single Layer(actually two), multiple Neuron classifier\n",
    "1. Initializer learnable parameters\n",
    "2. Implement Forward propagation - Linear(Sigmoid)\n",
    "3. Calculate the cost\n",
    "4. Implement Back propagation\n",
    "5. Start Main Loop  \n",
    "\n",
    "### Run separately from above code after restarting kernel to prevent variable mismatch"
   ]
  },
  {
   "cell_type": "code",
   "execution_count": 372,
   "metadata": {},
   "outputs": [],
   "source": [
    "# importing stuff\n",
    "import numpy as np\n",
    "import matplotlib.pyplot as plt"
   ]
  },
  {
   "cell_type": "code",
   "execution_count": 373,
   "metadata": {},
   "outputs": [],
   "source": [
    "def initializer(num_neurons,num_inp_features):\n",
    "    # initializing learnable parameters\n",
    "\n",
    "    W1 = np.random.randn(num_neurons,num_inp_features) * 0.01\n",
    "    b1 = np.zeros((num_neurons,1))\n",
    "    W2 = np.random.randn(1,num_neurons) * 0.01\n",
    "    b2 = 0\n",
    "    \n",
    "    return W1,b1,W2,b2"
   ]
  },
  {
   "cell_type": "code",
   "execution_count": 374,
   "metadata": {},
   "outputs": [],
   "source": [
    "def forward_prop(X,W1,b1,W2,b2):\n",
    "    # implementing forward propagation\n",
    "    \n",
    "    Z1 = np.dot(W1,X) + b1\n",
    "    A1 = 1/(1+np.exp(-1*Z1))\n",
    "    Z2 = np.dot(W2,A1) + b2\n",
    "    A2 = 1/(1+np.exp(-1*Z2))\n",
    "    \n",
    "    return Z1,A1,Z2,A2"
   ]
  },
  {
   "cell_type": "code",
   "execution_count": 375,
   "metadata": {},
   "outputs": [],
   "source": [
    "def compute_cost(A2,Y):\n",
    "    # calculating cost\n",
    "    \n",
    "    cost = (-1/Y.shape[1])*np.sum(Y*np.log(A2)+(1-Y)*np.log(1-A2),axis=1,keepdims=True)\n",
    "    \n",
    "    return cost"
   ]
  },
  {
   "cell_type": "code",
   "execution_count": 376,
   "metadata": {},
   "outputs": [],
   "source": [
    "def back_prop(X,A1,A2,Y,W2):\n",
    "    # implementing back propagation\n",
    "    \n",
    "    m = Y.shape[1]\n",
    "    dZ2 = A2-Y\n",
    "    dZ1 = np.dot(W2.T,dZ2)*((A1-1)*A1)\n",
    "    dW1 = (1/m) * np.dot(dZ1,X.T)\n",
    "    db1 = (1/m) * np.sum(dZ1,axis=1,keepdims=True)\n",
    "    dW2 = (1/m) * np.dot(dZ2,A1.T)\n",
    "    db2 = (1/m) * np.sum(dZ2,axis=1,keepdims=True)\n",
    "    \n",
    "    return dW1,db1,dW2,db2"
   ]
  },
  {
   "cell_type": "code",
   "execution_count": 377,
   "metadata": {},
   "outputs": [],
   "source": [
    "def start_training(X,Y,max_iter,learning_rate=0.01):\n",
    "    # starts training loop\n",
    "    \n",
    "    global costs\n",
    "    costs = []\n",
    "    \n",
    "    W1,b1,W2,b2 = initializer(3,X.shape[0])\n",
    "    for i in range(max_iter):\n",
    "        Z1,A1,Z2,A2 = forward_prop(X,W1,b1,W2,b2)\n",
    "        cost = compute_cost(A2,Y)\n",
    "        costs.append(cost.reshape(1))\n",
    "        dW1,db1,dW2,db2 = back_prop(X,A1,A2,Y,W2)\n",
    "        \n",
    "        W1 = W1 - learning_rate*dW1\n",
    "        b1 = b1 - learning_rate*db1\n",
    "        W2 = W2 - learning_rate*dW2\n",
    "        b2 = b2 - learning_rate*db2\n",
    "        \n",
    "        if(i%10 == 0):\n",
    "            print('Cost after '+str(i)+' iterations = '+str(cost))\n",
    "    \n",
    "    plt.plot(costs)\n",
    "    plt.ylim(0,1)\n",
    "    plt.ylabel('Cost')\n",
    "    plt.xlabel('Num Iterations')\n",
    "    return W1,b1,W2,b2"
   ]
  },
  {
   "cell_type": "code",
   "execution_count": 64,
   "metadata": {},
   "outputs": [
    {
     "name": "stdout",
     "output_type": "stream",
     "text": [
      "Cost after 0 iterations = [[0.69611739]]\n",
      "Cost after 10 iterations = [[0.69341639]]\n",
      "Cost after 20 iterations = [[0.69073904]]\n",
      "Cost after 30 iterations = [[0.68808516]]\n",
      "Cost after 40 iterations = [[0.68545455]]\n",
      "Cost after 50 iterations = [[0.682847]]\n",
      "Cost after 60 iterations = [[0.68026232]]\n",
      "Cost after 70 iterations = [[0.67770033]]\n",
      "Cost after 80 iterations = [[0.67516082]]\n",
      "Cost after 90 iterations = [[0.67264361]]\n",
      "Cost after 100 iterations = [[0.6701485]]\n",
      "Cost after 110 iterations = [[0.6676753]]\n",
      "Cost after 120 iterations = [[0.66522383]]\n",
      "Cost after 130 iterations = [[0.66279389]]\n",
      "Cost after 140 iterations = [[0.66038529]]\n",
      "Cost after 150 iterations = [[0.65799786]]\n",
      "Cost after 160 iterations = [[0.6556314]]\n",
      "Cost after 170 iterations = [[0.65328574]]\n",
      "Cost after 180 iterations = [[0.65096068]]\n",
      "Cost after 190 iterations = [[0.64865604]]\n",
      "Cost after 200 iterations = [[0.64637166]]\n",
      "Cost after 210 iterations = [[0.64410733]]\n",
      "Cost after 220 iterations = [[0.64186289]]\n",
      "Cost after 230 iterations = [[0.63963816]]\n",
      "Cost after 240 iterations = [[0.63743296]]\n",
      "Cost after 250 iterations = [[0.63524712]]\n",
      "Cost after 260 iterations = [[0.63308046]]\n",
      "Cost after 270 iterations = [[0.6309328]]\n",
      "Cost after 280 iterations = [[0.62880399]]\n",
      "Cost after 290 iterations = [[0.62669383]]\n",
      "Cost after 300 iterations = [[0.62460218]]\n",
      "Cost after 310 iterations = [[0.62252885]]\n",
      "Cost after 320 iterations = [[0.62047369]]\n",
      "Cost after 330 iterations = [[0.61843652]]\n",
      "Cost after 340 iterations = [[0.61641718]]\n",
      "Cost after 350 iterations = [[0.6144155]]\n",
      "Cost after 360 iterations = [[0.61243133]]\n",
      "Cost after 370 iterations = [[0.6104645]]\n",
      "Cost after 380 iterations = [[0.60851486]]\n",
      "Cost after 390 iterations = [[0.60658224]]\n",
      "Cost after 400 iterations = [[0.60466649]]\n",
      "Cost after 410 iterations = [[0.60276744]]\n",
      "Cost after 420 iterations = [[0.60088496]]\n",
      "Cost after 430 iterations = [[0.59901887]]\n",
      "Cost after 440 iterations = [[0.59716903]]\n",
      "Cost after 450 iterations = [[0.5953353]]\n",
      "Cost after 460 iterations = [[0.5935175]]\n",
      "Cost after 470 iterations = [[0.59171551]]\n",
      "Cost after 480 iterations = [[0.58992917]]\n",
      "Cost after 490 iterations = [[0.58815833]]\n",
      "Cost after 500 iterations = [[0.58640285]]\n",
      "Cost after 510 iterations = [[0.58466259]]\n",
      "Cost after 520 iterations = [[0.5829374]]\n",
      "Cost after 530 iterations = [[0.58122714]]\n",
      "Cost after 540 iterations = [[0.57953167]]\n",
      "Cost after 550 iterations = [[0.57785085]]\n",
      "Cost after 560 iterations = [[0.57618454]]\n",
      "Cost after 570 iterations = [[0.57453261]]\n",
      "Cost after 580 iterations = [[0.57289491]]\n",
      "Cost after 590 iterations = [[0.57127133]]\n",
      "Cost after 600 iterations = [[0.56966171]]\n",
      "Cost after 610 iterations = [[0.56806594]]\n",
      "Cost after 620 iterations = [[0.56648387]]\n",
      "Cost after 630 iterations = [[0.56491539]]\n",
      "Cost after 640 iterations = [[0.56336035]]\n",
      "Cost after 650 iterations = [[0.56181864]]\n",
      "Cost after 660 iterations = [[0.56029012]]\n",
      "Cost after 670 iterations = [[0.55877468]]\n",
      "Cost after 680 iterations = [[0.55727218]]\n",
      "Cost after 690 iterations = [[0.5557825]]\n",
      "Cost after 700 iterations = [[0.55430553]]\n",
      "Cost after 710 iterations = [[0.55284114]]\n",
      "Cost after 720 iterations = [[0.55138922]]\n",
      "Cost after 730 iterations = [[0.54994963]]\n",
      "Cost after 740 iterations = [[0.54852228]]\n",
      "Cost after 750 iterations = [[0.54710703]]\n",
      "Cost after 760 iterations = [[0.54570378]]\n",
      "Cost after 770 iterations = [[0.54431241]]\n",
      "Cost after 780 iterations = [[0.5429328]]\n",
      "Cost after 790 iterations = [[0.54156486]]\n",
      "Cost after 800 iterations = [[0.54020845]]\n",
      "Cost after 810 iterations = [[0.53886348]]\n",
      "Cost after 820 iterations = [[0.53752984]]\n",
      "Cost after 830 iterations = [[0.53620742]]\n",
      "Cost after 840 iterations = [[0.53489611]]\n",
      "Cost after 850 iterations = [[0.5335958]]\n",
      "Cost after 860 iterations = [[0.53230639]]\n",
      "Cost after 870 iterations = [[0.53102778]]\n",
      "Cost after 880 iterations = [[0.52975987]]\n",
      "Cost after 890 iterations = [[0.52850255]]\n",
      "Cost after 900 iterations = [[0.52725572]]\n",
      "Cost after 910 iterations = [[0.52601928]]\n",
      "Cost after 920 iterations = [[0.52479314]]\n",
      "Cost after 930 iterations = [[0.52357719]]\n",
      "Cost after 940 iterations = [[0.52237134]]\n",
      "Cost after 950 iterations = [[0.5211755]]\n",
      "Cost after 960 iterations = [[0.51998956]]\n",
      "Cost after 970 iterations = [[0.51881344]]\n",
      "Cost after 980 iterations = [[0.51764703]]\n",
      "Cost after 990 iterations = [[0.51649026]]\n"
     ]
    },
    {
     "data": {
      "image/png": "[encoded data removed]",
      "text/plain": [
       "<Figure size 432x288 with 1 Axes>"
      ]
     },
     "metadata": {
      "needs_background": "light"
     },
     "output_type": "display_data"
    }
   ],
   "source": [
    "# making testing dataset\n",
    "X = np.random.rand(5,64)\n",
    "Y = np.random.rand(1,64) > 0.9\n",
    "Y = Y.astype(int)\n",
    "trained_W1,trained_b1,trained_W2,trained_b2 = start_training(X,Y,1000)"
   ]
  },
  {
   "cell_type": "code",
   "execution_count": 65,
   "metadata": {},
   "outputs": [
    {
     "name": "stdout",
     "output_type": "stream",
     "text": [
      "0.890625\n"
     ]
    }
   ],
   "source": [
    "_ , _ , _ , A = forward_prop(X,trained_W1,trained_b1,trained_W2,trained_b2)\n",
    "A = (A > 0.5).astype(int)\n",
    "predictions = (A == Y).astype(int)\n",
    "accuracy = np.sum(predictions)/predictions.shape[1]\n",
    "print(accuracy)"
   ]
  },
  {
   "cell_type": "markdown",
   "metadata": {},
   "source": [
    "# Multilayer Network"
   ]
  },
  {
   "cell_type": "code",
   "execution_count": 547,
   "metadata": {},
   "outputs": [],
   "source": [
    "# importing stuff\n",
    "import numpy as np\n",
    "import matplotlib.pyplot as plt\n",
    "np.random.seed(42)"
   ]
  },
  {
   "cell_type": "code",
   "execution_count": 548,
   "metadata": {},
   "outputs": [],
   "source": [
    "def tanh(x):\n",
    "    return (np.exp(2*x)-1)/(np.exp(2*x)+1)"
   ]
  },
  {
   "cell_type": "code",
   "execution_count": 549,
   "metadata": {},
   "outputs": [],
   "source": [
    "def initializer(layers_info,X):\n",
    "    parameters = {}\n",
    "    layers_info.insert(0,X.shape[0])\n",
    "    for i in range(1,len(layers_info)):\n",
    "        parameters['W'+str(i)] = np.random.randn(layers_info[i],layers_info[i-1]) * 0.01\n",
    "        parameters['b'+str(i)] = np.zeros((layers_info[i],1))\n",
    "    return parameters,layers_info"
   ]
  },
  {
   "cell_type": "code",
   "execution_count": 550,
   "metadata": {},
   "outputs": [],
   "source": [
    "def forward_prop(parameters,X,layers_info):\n",
    "    logits = {}\n",
    "    activations = {}\n",
    "    activations['A0'] = X\n",
    "    for i in range(1,len(layers_info)-1):\n",
    "        logits['Z'+str(i)] = np.dot(parameters['W'+str(i)],activations['A'+str(i-1)]) + parameters['b'+str(i)]\n",
    "        activations['A'+str(i)] = tanh(logits['Z'+str(i)])\n",
    "        \n",
    "    logits['Z'+str(len(layers_info)-1)] = np.dot(parameters['W'+str(len(layers_info)-1)],activations['A'+str(len(layers_info)-1-1)]) + parameters['b'+str(len(layers_info)-1)]\n",
    "    activations['A'+str(len(layers_info)-1)] = 1/(1+np.exp(-logits['Z'+str(len(layers_info)-1)]))\n",
    "    #print(activations['A'+str(len(layers_info)-1)])\n",
    "    \n",
    "    return logits,activations"
   ]
  },
  {
   "cell_type": "code",
   "execution_count": 551,
   "metadata": {},
   "outputs": [],
   "source": [
    "def compute_cost(activations,Y,layers_info):\n",
    "    AL = activations['A'+str(len(layers_info)-1)]\n",
    "    cost = (-1/Y.shape[1])*np.sum(Y*np.log(AL) + (1-Y)*np.log(AL))\n",
    "    return cost"
   ]
  },
  {
   "cell_type": "code",
   "execution_count": 552,
   "metadata": {},
   "outputs": [],
   "source": [
    "def back_prop(X,Y,parameters,activations,layers_info,logits):\n",
    "    gradients = {}\n",
    "    m = Y.shape[1]\n",
    "    gradients['dZ'+str(len(layers_info)-1)] = activations['A'+str(len(layers_info)-1)] - Y\n",
    "    gradients['dW'+str(len(layers_info)-1)] = (1/m) * np.dot(gradients['dZ'+str(len(layers_info)-1)],activations['A'+str(len(layers_info)-2)].T)\n",
    "    gradients['db'+str(len(layers_info)-1)] = (1/m) * np.sum(gradients['dZ'+str(len(layers_info)-1)],axis=1,keepdims=True)\n",
    "    for i in range(2,len(layers_info)):\n",
    "        gradients['dZ'+str(len(layers_info) - i)] = np.dot(parameters['W'+str(len(layers_info)-i+1)].T,gradients['dZ'+str(len(layers_info)-i+1)])*(1-np.square(tanh(logits['Z'+str(len(layers_info)-i)])))\n",
    "        gradients['dW'+str(len(layers_info)-i)] = (1/m) * np.dot(gradients['dZ'+str(len(layers_info)-i)],activations['A'+str(len(layers_info)-i-1)].T)\n",
    "        gradients['db'+str(len(layers_info)-i)] = (1/m) * np.sum(gradients['dZ'+str(len(layers_info)-i)],axis=1,keepdims=True)\n",
    "    return gradients"
   ]
  },
  {
   "cell_type": "code",
   "execution_count": 553,
   "metadata": {},
   "outputs": [],
   "source": [
    "def start_training(X,Y,layers_info,max_iter,learning_rate=0.001):\n",
    "    parameters,layers_info = initializer(layers_info,X)\n",
    "    \n",
    "    global costs\n",
    "    costs = []\n",
    "    \n",
    "    for j in range(max_iter):\n",
    "        logits,activations = forward_prop(parameters,X,layers_info)\n",
    "        #for j in logits.keys():\n",
    "        #    print(j)\n",
    "        cost = compute_cost(activations,Y,layers_info)\n",
    "        costs.append(cost)\n",
    "        gradients = back_prop(X,Y,parameters,activations,layers_info,logits)\n",
    "        for i in range(1,len(layers_info)):\n",
    "            parameters['W'+str(i)] -= learning_rate*gradients['dW'+str(i)]\n",
    "            parameters['b'+str(i)] -= learning_rate*gradients['db'+str(i)]\n",
    "            \n",
    "        if(j%1000 == 0):\n",
    "            print(cost)\n",
    "            \n",
    "    plt.plot(costs)\n",
    "    plt.ylim(0,1)\n",
    "    plt.ylabel('Cost')\n",
    "    plt.xlabel('Num Iterations')\n",
    "    return parameters"
   ]
  },
  {
   "cell_type": "code",
   "execution_count": 554,
   "metadata": {},
   "outputs": [],
   "source": [
    "import pandas as pd\n",
    "df = pd.read_csv('datasets/Titanic/train.csv')\n",
    "df.dropna(inplace=True)\n",
    "def convert_for_use(dataframe):\n",
    "    tempdf = dataframe.drop(labels=['Name','Ticket','Cabin'],axis=1).set_index('PassengerId')\n",
    "    tempdf.replace({'male':0,'female':1,'S':0,'C':1,'Q':2},inplace=True);\n",
    "    X = tempdf.iloc[:,1:]\n",
    "    y = tempdf.iloc[:,0]\n",
    "    return (X,y)"
   ]
  },
  {
   "cell_type": "code",
   "execution_count": 555,
   "metadata": {},
   "outputs": [],
   "source": [
    "X,Y = convert_for_use(df)\n",
    "Y = Y.to_numpy(dtype=np.float64)\n",
    "X = X.to_numpy(dtype=np.float64)\n",
    "X = X.T\n",
    "Y = Y.reshape(1,183)"
   ]
  },
  {
   "cell_type": "code",
   "execution_count": 560,
   "metadata": {},
   "outputs": [
    {
     "name": "stdout",
     "output_type": "stream",
     "text": [
      "123\n",
      "0.6929654107749615\n",
      "0.619463054791888\n",
      "0.5661712699570859\n",
      "0.526891282511775\n",
      "0.497519363566054\n",
      "0.4752876431687593\n",
      "0.4582999364623785\n",
      "0.4452451711084058\n",
      "0.43519806231782493\n",
      "0.4273687704508231\n"
     ]
    },
    {
     "data": {
      "image/png": "[encoded data removed]",
      "text/plain": [
       "<Figure size 432x288 with 1 Axes>"
      ]
     },
     "metadata": {
      "needs_background": "light"
     },
     "output_type": "display_data"
    }
   ],
   "source": [
    "#Y = (Y != 1).astype(float)\n",
    "print(np.count_nonzero(Y == 1))\n",
    "layers_info = [2,7,1]\n",
    "trained_parameters = start_training(X,Y,layers_info,10000)"
   ]
  },
  {
   "cell_type": "code",
   "execution_count": 561,
   "metadata": {},
   "outputs": [
    {
     "name": "stdout",
     "output_type": "stream",
     "text": [
      "[[0.65703914 0.65634836 0.6550013  0.65634178 0.65379991 0.65426907\n",
      "  0.6558002  0.65817317 0.65671158 0.65487407 0.65718888 0.65440728\n",
      "  0.65447854 0.65817315 0.65608505 0.65363867 0.65737609 0.65775801\n",
      "  0.65546545 0.65817302 0.65433921 0.65643587 0.65591413 0.65622344\n",
      "  0.65772387 0.65475035 0.65750427 0.65389415 0.65398905 0.6541616\n",
      "  0.65744181 0.65686783 0.6544029  0.65803468 0.65610134 0.65477632\n",
      "  0.65802818 0.65743484 0.65761715 0.65754523 0.6574554  0.65621169\n",
      "  0.65443181 0.653689   0.65772678 0.65669728 0.65367376 0.65807271\n",
      "  0.65810539 0.65490744 0.65590247 0.65796643 0.65417627 0.65816776\n",
      "  0.65817231 0.65816807 0.65808823 0.6568051  0.65779178 0.65817318\n",
      "  0.65815899 0.65808423 0.65810196 0.65417756 0.65745858 0.65436008\n",
      "  0.65813818 0.65725687 0.65807582 0.65470519 0.65691897 0.65817315\n",
      "  0.65480009 0.65712804 0.65595205 0.65750144 0.65701799 0.65817186\n",
      "  0.65803775 0.65807752 0.65501429 0.65773782 0.65416019 0.65528985\n",
      "  0.65551692 0.65813037 0.65817234 0.65803134 0.65414003 0.65522856\n",
      "  0.65722383 0.65361664 0.6541675  0.6547371  0.65490394 0.65789322\n",
      "  0.65769102 0.65388803 0.65401865 0.65649795 0.65815471 0.65795141\n",
      "  0.65808381 0.65477305 0.6545242  0.65417202 0.65784041 0.6560279\n",
      "  0.65430401 0.6569218  0.65712303 0.65766847 0.65809644 0.65476065\n",
      "  0.65731025 0.65509929 0.65477807 0.65624617 0.65793426 0.65552921\n",
      "  0.65785361 0.65619235 0.65661564 0.65564634 0.65813355 0.65733477\n",
      "  0.65586408 0.6538608  0.65776303 0.65340642 0.65525072 0.65750144\n",
      "  0.65676795 0.65415306 0.65761667 0.65417539 0.65653642 0.65817326\n",
      "  0.65759899 0.65817249 0.65677755 0.65777927 0.65378546 0.65817283\n",
      "  0.65483253 0.65444146 0.65678829 0.65542867 0.65481548 0.65817199\n",
      "  0.65451097 0.6568142  0.65817162 0.65817326 0.65738617 0.65817316\n",
      "  0.65506479 0.65719588 0.65595189 0.65765708 0.65803755 0.65665525\n",
      "  0.65349926 0.65816989 0.65739981 0.65541824 0.65695751 0.65410167\n",
      "  0.6581367  0.65369937 0.6564712  0.65726245 0.65460608 0.65742026\n",
      "  0.65676906 0.65404348 0.65414363 0.65643235 0.65554458 0.65403036\n",
      "  0.65661486 0.65608622 0.65562293]]\n",
      "[[1 1 1 1 1 1 1 1 1 1 1 1 1 1 1 1 1 1 1 1 1 1 1 1 1 1 1 1 1 1 1 1 1 1 1 1\n",
      "  1 1 1 1 1 1 1 1 1 1 1 1 1 1 1 1 1 1 1 1 1 1 1 1 1 1 1 1 1 1 1 1 1 1 1 1\n",
      "  1 1 1 1 1 1 1 1 1 1 1 1 1 1 1 1 1 1 1 1 1 1 1 1 1 1 1 1 1 1 1 1 1 1 1 1\n",
      "  1 1 1 1 1 1 1 1 1 1 1 1 1 1 1 1 1 1 1 1 1 1 1 1 1 1 1 1 1 1 1 1 1 1 1 1\n",
      "  1 1 1 1 1 1 1 1 1 1 1 1 1 1 1 1 1 1 1 1 1 1 1 1 1 1 1 1 1 1 1 1 1 1 1 1\n",
      "  1 1 1]]\n",
      "0.6721311475409836\n"
     ]
    }
   ],
   "source": [
    "_ , activations = forward_prop(trained_parameters,X,layers_info)\n",
    "A = activations['A'+str(len(layers_info)-1)]\n",
    "print(A)\n",
    "A = (A > 0.5).astype(int)\n",
    "print(A)\n",
    "predictions = (A == Y).astype(int)\n",
    "accuracy = np.sum(predictions)/predictions.shape[1]\n",
    "print(accuracy)"
   ]
  },
  {
   "cell_type": "markdown",
   "metadata": {},
   "source": [
    "## NN on MNIST Dataset (without CNN)"
   ]
  },
  {
   "cell_type": "code",
   "execution_count": 692,
   "metadata": {},
   "outputs": [],
   "source": [
    "import numpy as np\n",
    "import matplotlib.pyplot as plt\n",
    "import struct\n",
    "with open('datasets/Hdigits_train.idx3-ubyte','rb') as f:\n",
    "    magic, size = struct.unpack(\">II\", f.read(8))\n",
    "    nrows, ncols = struct.unpack(\">II\", f.read(8))\n",
    "    data = np.fromfile(f, dtype=np.dtype(np.uint8).newbyteorder('>'))\n",
    "    data = data.reshape((size, nrows, ncols))\n",
    "X = data\n",
    "with open('datasets/Hdigits_train_labels.idx1-ubyte','rb') as f:\n",
    "    magic, size = struct.unpack(\">II\", f.read(8))\n",
    "    data = np.fromfile(f, dtype=np.dtype(np.uint8).newbyteorder('>'))\n",
    "Y_raw = data\n",
    "X = X/255\n",
    "X = X.reshape(X.shape[0],-1)\n",
    "X = X.T"
   ]
  },
  {
   "cell_type": "code",
   "execution_count": 661,
   "metadata": {},
   "outputs": [
    {
     "name": "stdout",
     "output_type": "stream",
     "text": [
      "(1, 60000)\n",
      "4\n",
      "[0. 0. 0. 0. 1. 0. 0. 0. 0. 0.]\n"
     ]
    }
   ],
   "source": [
    "Y_raw = Y_raw.reshape(1,60000)\n",
    "print(Y_raw.shape)\n",
    "Y_hot = np.zeros((10,60000))\n",
    "for i in range(60000):\n",
    "    Y_hot[Y_raw[0,i],i] = 1\n",
    "print(Y_raw[0,2])\n",
    "print(Y_hot[:,2])\n",
    "Y = Y_hot"
   ]
  },
  {
   "cell_type": "code",
   "execution_count": 662,
   "metadata": {},
   "outputs": [],
   "source": [
    "def rev_one_hot(a):\n",
    "    b = np.zeros((1,a.shape[1]))\n",
    "    for i in range(a.shape[1]):\n",
    "        for j in range(a.shape[0]):\n",
    "            if(a[j,i] == 1):\n",
    "                b[0,i] = j\n",
    "                break\n",
    "    return b"
   ]
  },
  {
   "cell_type": "code",
   "execution_count": 663,
   "metadata": {},
   "outputs": [],
   "source": [
    "def initializer(layers_info,X):\n",
    "    parameters = {}\n",
    "    layers_info.insert(0,X.shape[0])\n",
    "    for i in range(1,len(layers_info)):\n",
    "        parameters['W'+str(i)] = np.random.randn(layers_info[i],layers_info[i-1]) * 0.01\n",
    "        parameters['b'+str(i)] = np.zeros((layers_info[i],1))\n",
    "    return parameters,layers_info"
   ]
  },
  {
   "cell_type": "code",
   "execution_count": 664,
   "metadata": {},
   "outputs": [],
   "source": [
    "def forward_prop(parameters,X,layers_info):\n",
    "    logits = {}\n",
    "    activations = {}\n",
    "    activations['A0'] = X\n",
    "    for i in range(1,len(layers_info)-1):\n",
    "        logits['Z'+str(i)] = np.dot(parameters['W'+str(i)],activations['A'+str(i-1)]) + parameters['b'+str(i)]\n",
    "        activations['A'+str(i)] = tanh(logits['Z'+str(i)])\n",
    "        \n",
    "    logits['Z'+str(len(layers_info)-1)] = np.dot(parameters['W'+str(len(layers_info)-1)],activations['A'+str(len(layers_info)-1-1)]) + parameters['b'+str(len(layers_info)-1)]\n",
    "    activations['A'+str(len(layers_info)-1)] = np.exp(logits['Z'+str(len(layers_info)-1)])/np.sum(np.exp(logits['Z'+str(len(layers_info)-1)]),axis=0,keepdims=True)\n",
    "    #print(activations['A'+str(len(layers_info)-1)])\n",
    "    \n",
    "    return logits,activations"
   ]
  },
  {
   "cell_type": "code",
   "execution_count": 665,
   "metadata": {},
   "outputs": [],
   "source": [
    "def compute_cost(activations,Y,layers_info):\n",
    "    AL = activations['A'+str(len(layers_info)-1)]\n",
    "    cost = (-1/Y.shape[1])*np.sum(Y*np.log(AL))  # + (1-Y)*np.log(AL))\n",
    "    return cost"
   ]
  },
  {
   "cell_type": "code",
   "execution_count": 666,
   "metadata": {},
   "outputs": [],
   "source": [
    "def back_prop(X,Y,parameters,activations,layers_info,logits):\n",
    "    gradients = {}\n",
    "    m = Y.shape[1]\n",
    "    gradients['dZ'+str(len(layers_info)-1)] = activations['A'+str(len(layers_info)-1)] - Y\n",
    "    gradients['dW'+str(len(layers_info)-1)] = (1/m) * np.dot(gradients['dZ'+str(len(layers_info)-1)],activations['A'+str(len(layers_info)-2)].T)\n",
    "    gradients['db'+str(len(layers_info)-1)] = (1/m) * np.sum(gradients['dZ'+str(len(layers_info)-1)],axis=1,keepdims=True)\n",
    "    for i in range(2,len(layers_info)):\n",
    "        gradients['dZ'+str(len(layers_info) - i)] = np.dot(parameters['W'+str(len(layers_info)-i+1)].T,gradients['dZ'+str(len(layers_info)-i+1)])*(1-np.square(tanh(logits['Z'+str(len(layers_info)-i)])))\n",
    "        gradients['dW'+str(len(layers_info)-i)] = (1/m) * np.dot(gradients['dZ'+str(len(layers_info)-i)],activations['A'+str(len(layers_info)-i-1)].T)\n",
    "        gradients['db'+str(len(layers_info)-i)] = (1/m) * np.sum(gradients['dZ'+str(len(layers_info)-i)],axis=1,keepdims=True)\n",
    "    return gradients"
   ]
  },
  {
   "cell_type": "code",
   "execution_count": 687,
   "metadata": {},
   "outputs": [],
   "source": [
    "def start_training(X,Y,layers_info,max_iter,learning_rate=0.01):\n",
    "    parameters,layers_info = initializer(layers_info,X)\n",
    "    \n",
    "    global costs\n",
    "    costs = []\n",
    "    \n",
    "    for j in range(max_iter):\n",
    "        logits,activations = forward_prop(parameters,X,layers_info)\n",
    "        #for j in logits.keys():\n",
    "        #    print(j)\n",
    "        cost = compute_cost(activations,Y,layers_info)\n",
    "        costs.append(cost)\n",
    "        gradients = back_prop(X,Y,parameters,activations,layers_info,logits)\n",
    "        for i in range(1,len(layers_info)):\n",
    "            parameters['W'+str(i)] -= learning_rate*gradients['dW'+str(i)]\n",
    "            parameters['b'+str(i)] -= learning_rate*gradients['db'+str(i)]\n",
    "            \n",
    "        if(j%100 == 0):\n",
    "            print(cost)\n",
    "            \n",
    "    plt.plot(costs)\n",
    "    #plt.ylim(0,5)\n",
    "    plt.ylabel('Cost')\n",
    "    plt.xlabel('Num Iterations')\n",
    "    return parameters"
   ]
  },
  {
   "cell_type": "code",
   "execution_count": 731,
   "metadata": {},
   "outputs": [
    {
     "name": "stdout",
     "output_type": "stream",
     "text": [
      "2.3025862202585787\n",
      "2.302305284155788\n",
      "2.3020718818232284\n",
      "2.301877259736645\n",
      "2.3017141719916414\n",
      "2.3015766169249927\n",
      "2.3014596160963263\n",
      "2.30135902867405\n",
      "2.3012713952849717\n",
      "2.301193806195296\n"
     ]
    },
    {
     "data": {
      "image/png": "[encoded data removed]",
      "text/plain": [
       "<Figure size 432x288 with 1 Axes>"
      ]
     },
     "metadata": {
      "needs_background": "light"
     },
     "output_type": "display_data"
    }
   ],
   "source": [
    "layers_info = [50,10]\n",
    "trained_parameters = start_training(X,Y,layers_info,1000)"
   ]
  },
  {
   "cell_type": "code",
   "execution_count": 726,
   "metadata": {},
   "outputs": [
    {
     "name": "stdout",
     "output_type": "stream",
     "text": [
      "[0.06664208 0.04820069 0.14340768 0.06726686 0.14221587 0.07351697\n",
      " 0.16993936 0.08238234 0.09582182 0.11060633]\n",
      "[0. 1. 0. 0. 0. 0. 0. 0. 0. 0.]\n",
      "[0. 1. 0. 0. 0. 0. 0. 0. 0. 0.]\n"
     ]
    }
   ],
   "source": [
    "_ , activations = forward_prop(trained_parameters,X,layers_info)\n",
    "A = activations['A'+str(len(layers_info)-1)]\n",
    "#print(A.shape)\n",
    "print(A[:,5])\n",
    "for i in range(60000):\n",
    "    A[:,i] = (A[:,i] == np.max(A[:,i])).astype(float)\n",
    "print(A[:,3])\n",
    "print(Y[:,3])\n",
    "rev_hotted_A = rev_one_hot(A)"
   ]
  },
  {
   "cell_type": "code",
   "execution_count": 727,
   "metadata": {},
   "outputs": [
    {
     "name": "stdout",
     "output_type": "stream",
     "text": [
      "[[0 1 1 ... 1 0 0]]\n",
      "0.6278333333333334\n"
     ]
    }
   ],
   "source": [
    "predictions = (rev_hotted_A == Y_raw).astype(int)\n",
    "print(predictions)\n",
    "accuracy = np.sum(predictions)/predictions.shape[1]\n",
    "print(accuracy)"
   ]
  },
  {
   "cell_type": "code",
   "execution_count": 728,
   "metadata": {},
   "outputs": [],
   "source": [
    "with open('datasets/Hdigits_test.idx3-ubyte','rb') as f:\n",
    "    magic, size = struct.unpack(\">II\", f.read(8))\n",
    "    nrows, ncols = struct.unpack(\">II\", f.read(8))\n",
    "    data = np.fromfile(f, dtype=np.dtype(np.uint8).newbyteorder('>'))\n",
    "    data = data.reshape((size, nrows, ncols))\n",
    "X_test = data\n",
    "with open('datasets/Hdigit_test_labels.idx1-ubyte','rb') as f:\n",
    "    magic, size = struct.unpack(\">II\", f.read(8))\n",
    "    data = np.fromfile(f, dtype=np.dtype(np.uint8).newbyteorder('>'))\n",
    "Y_test = data\n",
    "X_test = X_test/255\n",
    "X_test = X_test.reshape(X_test.shape[0],-1)\n",
    "X_test = X_test.T\n",
    "Y_test = Y_test.reshape(1,Y_test.shape[0])"
   ]
  },
  {
   "cell_type": "code",
   "execution_count": 729,
   "metadata": {},
   "outputs": [
    {
     "name": "stdout",
     "output_type": "stream",
     "text": [
      "[[0.03981819 0.12993182 0.01595269 ... 0.00842509 0.06355435 0.17104917]\n",
      " [0.0442036  0.06291858 0.43135155 ... 0.07833822 0.134059   0.01450536]\n",
      " [0.02311653 0.24005568 0.07976532 ... 0.03513423 0.11038916 0.16346928]\n",
      " ...\n",
      " [0.36253883 0.00832145 0.05448808 ... 0.20347548 0.07136961 0.0180247 ]\n",
      " [0.0449914  0.10011866 0.10912747 ... 0.06840029 0.13183797 0.05140167]\n",
      " [0.21695751 0.01240487 0.05879079 ... 0.255671   0.08408355 0.02910502]]\n"
     ]
    }
   ],
   "source": [
    "_ , activations = forward_prop(trained_parameters,X_test,layers_info)\n",
    "A = activations['A'+str(len(layers_info)-1)]\n",
    "print(A)\n",
    "for i in range(A.shape[1]):\n",
    "    A[:,i] = (A[:,i] == np.max(A[:,i])).astype(float)\n",
    "rev_hotted_A = rev_one_hot(A)"
   ]
  },
  {
   "cell_type": "code",
   "execution_count": 730,
   "metadata": {},
   "outputs": [
    {
     "name": "stdout",
     "output_type": "stream",
     "text": [
      "[[1 1 1 ... 0 0 1]]\n",
      "0.6326\n"
     ]
    }
   ],
   "source": [
    "predictions = (rev_hotted_A == Y_test).astype(int)\n",
    "print(predictions)\n",
    "accuracy = np.sum(predictions)/predictions.shape[1]\n",
    "print(accuracy)"
   ]
  },
  {
   "cell_type": "markdown",
   "metadata": {},
   "source": [
    "## One Layer Results on MNIST\n",
    "learning_rate = 0.01  \n",
    "max_iter = 1000  \n",
    "layers_info = [10]  \n",
    "train accuracy = 86.06%  \n",
    "test accuracy = 87.12%  "
   ]
  },
  {
   "cell_type": "markdown",
   "metadata": {},
   "source": [
    "## 2 Layer Results on MNIST\n",
    "learning_rate = 0.01  \n",
    "max_iter = 1000  \n",
    "layers_info = [15,10]  \n",
    "train accuracy = 62.89%  \n",
    "test accuracy = 63.72% "
   ]
  },
  {
   "cell_type": "code",
   "execution_count": 725,
   "metadata": {},
   "outputs": [
    {
     "ename": "ModuleNotFoundError",
     "evalue": "No module named 'tensorflow'",
     "output_type": "error",
     "traceback": [
      "\u001b[1;31m---------------------------------------------------------------------------\u001b[0m",
      "\u001b[1;31mModuleNotFoundError\u001b[0m                       Traceback (most recent call last)",
      "\u001b[1;32m<ipython-input-725-8a7490f4e569>\u001b[0m in \u001b[0;36m<module>\u001b[1;34m\u001b[0m\n\u001b[1;32m----> 1\u001b[1;33m \u001b[1;32mfrom\u001b[0m \u001b[0mtensorflow\u001b[0m\u001b[1;33m.\u001b[0m\u001b[0mpython\u001b[0m\u001b[1;33m.\u001b[0m\u001b[0mclient\u001b[0m \u001b[1;32mimport\u001b[0m \u001b[0mdevice_lib\u001b[0m\u001b[1;33m\u001b[0m\u001b[1;33m\u001b[0m\u001b[0m\n\u001b[0m\u001b[0;32m      2\u001b[0m \u001b[1;33m\u001b[0m\u001b[0m\n\u001b[0;32m      3\u001b[0m \u001b[1;32mdef\u001b[0m \u001b[0mget_available_devices\u001b[0m\u001b[1;33m(\u001b[0m\u001b[1;33m)\u001b[0m\u001b[1;33m:\u001b[0m\u001b[1;33m\u001b[0m\u001b[1;33m\u001b[0m\u001b[0m\n\u001b[0;32m      4\u001b[0m     \u001b[0mlocal_device_protos\u001b[0m \u001b[1;33m=\u001b[0m \u001b[0mdevice_lib\u001b[0m\u001b[1;33m.\u001b[0m\u001b[0mlist_local_devices\u001b[0m\u001b[1;33m(\u001b[0m\u001b[1;33m)\u001b[0m\u001b[1;33m\u001b[0m\u001b[1;33m\u001b[0m\u001b[0m\n\u001b[0;32m      5\u001b[0m     \u001b[1;32mreturn\u001b[0m \u001b[1;33m[\u001b[0m\u001b[0mx\u001b[0m\u001b[1;33m.\u001b[0m\u001b[0mname\u001b[0m \u001b[1;32mfor\u001b[0m \u001b[0mx\u001b[0m \u001b[1;32min\u001b[0m \u001b[0mlocal_device_protos\u001b[0m\u001b[1;33m]\u001b[0m\u001b[1;33m\u001b[0m\u001b[1;33m\u001b[0m\u001b[0m\n",
      "\u001b[1;31mModuleNotFoundError\u001b[0m: No module named 'tensorflow'"
     ]
    }
   ],
   "source": [
    "from tensorflow.python.client import device_lib\n",
    "\n",
    "def get_available_devices():\n",
    "    local_device_protos = device_lib.list_local_devices()\n",
    "    return [x.name for x in local_device_protos]\n",
    "\n",
    "print(get_available_devices())\n"
   ]
  },
  {
   "cell_type": "code",
   "execution_count": null,
   "metadata": {},
   "outputs": [],
   "source": []
  }
 ],
 "metadata": {
  "kernelspec": {
   "display_name": "Python 3",
   "language": "python",
   "name": "python3"
  },
  "language_info": {
   "codemirror_mode": {
    "name": "ipython",
    "version": 3
   },
   "file_extension": ".py",
   "mimetype": "text/x-python",
   "name": "python",
   "nbconvert_exporter": "python",
   "pygments_lexer": "ipython3",
   "version": "3.8.2"
  }
 },
 "nbformat": 4,
 "nbformat_minor": 4
}
